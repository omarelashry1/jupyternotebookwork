{
 "cells": [
  {
   "cell_type": "code",
   "execution_count": 4,
   "metadata": {},
   "outputs": [
    {
     "name": "stdout",
     "output_type": "stream",
     "text": [
      "Defaulting to user installation because normal site-packages is not writeable\n",
      "Requirement already satisfied: biopython in c:\\users\\omare\\appdata\\roaming\\python\\python39\\site-packages (1.80)\n",
      "Requirement already satisfied: numpy in c:\\users\\omare\\appdata\\roaming\\python\\python39\\site-packages (from biopython) (1.24.2)\n",
      "Note: you may need to restart the kernel to use updated packages.\n"
     ]
    },
    {
     "name": "stderr",
     "output_type": "stream",
     "text": [
      "WARNING: You are using pip version 21.2.3; however, version 23.0.1 is available.\n",
      "You should consider upgrading via the 'c:\\Program Files (x86)\\Microsoft Visual Studio\\Shared\\Python39_64\\python.exe -m pip install --upgrade pip' command.\n"
     ]
    }
   ],
   "source": [
    "pip install biopython"
   ]
  },
  {
   "attachments": {},
   "cell_type": "markdown",
   "metadata": {},
   "source": [
    "STEP 1 & 2: "
   ]
  },
  {
   "cell_type": "code",
   "execution_count": 2,
   "metadata": {},
   "outputs": [],
   "source": [
    "def cgr(seq, order, k):\n",
    " ln = len(seq)\n",
    " pw = 2**k\n",
    " out = [[0 for i in range(pw)] for j in range(pw)]\n",
    " x = 2**(k-1)\n",
    " y = 2**(k-1)\n",
    " for i in range(0,ln):\n",
    "   x=x//2\n",
    "   y=y//2\n",
    "   if(seq[i] == order[2] or seq[i] == order[3]):\n",
    "      x = x + (2**(k-1))\n",
    "   if(seq[i] == order[0] or seq[i] == order[3]):\n",
    "      y = y + (2**(k-1))\n",
    "   if(i>=k-1):\n",
    "      out[y][x] = out[y][x]+1\n",
    " return out"
   ]
  },
  {
   "cell_type": "code",
   "execution_count": 6,
   "metadata": {},
   "outputs": [],
   "source": [
    "import os, glob\n",
    "from Bio import SeqIO\n",
    "letters = ['A', 'C','G', 'T']\n",
    "path = 'c:\\\\Users\\\\omare\\\\Desktop\\\\Assignment24440\\\\Asn2Dataset\\\\TrainingDataset\\\\Alpha'\n",
    "alphacgrs = []\n",
    "for filename in glob.glob(os.path.join(path, '*.fasta')):\n",
    "   with open(os.path.join(os.getcwd(), filename), 'r') as f:\n",
    "     seqobjr =SeqIO.parse(filename, 'fasta')\n",
    "     seqr = [seq for seq in seqobjr]\n",
    "     for x in seqr:\n",
    "        filter(letters,x)\n",
    "     for x in seqr :\n",
    "        res = cgr(x.seq, order=\"ACGT\", k=7)\n",
    "        alphacgrs.append(res)"
   ]
  },
  {
   "cell_type": "code",
   "execution_count": 7,
   "metadata": {},
   "outputs": [],
   "source": [
    "path = 'c:\\\\Users\\\\omare\\\\Desktop\\\\Assignment24440\\\\Asn2Dataset\\\\TrainingDataset\\\\Beta'\n",
    "betacgrs= []\n",
    "for filename in glob.glob(os.path.join(path, '*.fasta')):\n",
    "   with open(os.path.join(os.getcwd(), filename), 'r') as f:\n",
    "     seqobjr =SeqIO.parse(filename, 'fasta')\n",
    "     seqr = [seq for seq in seqobjr]\n",
    "     for x in seqr:\n",
    "        filter(letters,x)\n",
    "     for x in seqr :\n",
    "        res = cgr(x.seq, order=\"ACGT\", k=7)\n",
    "        betacgrs.append(res)"
   ]
  },
  {
   "cell_type": "code",
   "execution_count": 8,
   "metadata": {},
   "outputs": [],
   "source": [
    "path = 'c:\\\\Users\\\\omare\\\\Desktop\\\\Assignment24440\\\\Asn2Dataset\\\\TrainingDataset\\\\Delta'\n",
    "deltacgrs= []\n",
    "for filename in glob.glob(os.path.join(path, '*.fasta')):\n",
    "   with open(os.path.join(os.getcwd(), filename), 'r') as f:\n",
    "     seqobjr =SeqIO.parse(filename, 'fasta')\n",
    "     seqr = [seq for seq in seqobjr]\n",
    "     for x in seqr:\n",
    "        filter(letters,x)\n",
    "     for x in seqr :\n",
    "        res = cgr(x.seq, order=\"ACGT\", k=7)\n",
    "        deltacgrs.append(res)"
   ]
  },
  {
   "cell_type": "code",
   "execution_count": 9,
   "metadata": {},
   "outputs": [],
   "source": [
    "path = 'c:\\\\Users\\\\omare\\\\Desktop\\\\Assignment24440\\\\Asn2Dataset\\\\TrainingDataset\\\\Gamma'\n",
    "gammacgrs= []\n",
    "for filename in glob.glob(os.path.join(path, '*.fasta')):\n",
    "   with open(os.path.join(os.getcwd(), filename), 'r') as f:\n",
    "     seqobjr =SeqIO.parse(filename, 'fasta')\n",
    "     seqr = [seq for seq in seqobjr]\n",
    "     for x in seqr:\n",
    "        filter(letters,x)\n",
    "     for x in seqr :\n",
    "        res = cgr(x.seq, order=\"ACGT\", k=7)\n",
    "        gammacgrs.append(res)"
   ]
  },
  {
   "cell_type": "code",
   "execution_count": 10,
   "metadata": {},
   "outputs": [],
   "source": [
    "CGRS = alphacgrs + betacgrs + deltacgrs + gammacgrs"
   ]
  },
  {
   "attachments": {},
   "cell_type": "markdown",
   "metadata": {},
   "source": [
    "Step3: "
   ]
  },
  {
   "cell_type": "code",
   "execution_count": 11,
   "metadata": {},
   "outputs": [],
   "source": [
    "X = CGRS"
   ]
  },
  {
   "attachments": {},
   "cell_type": "markdown",
   "metadata": {},
   "source": [
    "Reshaping X: "
   ]
  },
  {
   "cell_type": "code",
   "execution_count": 13,
   "metadata": {},
   "outputs": [],
   "source": [
    "import numpy as np\n",
    "X = np.array(X)"
   ]
  },
  {
   "cell_type": "code",
   "execution_count": 14,
   "metadata": {},
   "outputs": [
    {
     "data": {
      "text/plain": [
       "(2000, 128, 128)"
      ]
     },
     "execution_count": 14,
     "metadata": {},
     "output_type": "execute_result"
    }
   ],
   "source": [
    "X.shape"
   ]
  },
  {
   "cell_type": "code",
   "execution_count": 15,
   "metadata": {},
   "outputs": [],
   "source": [
    "X = X.reshape(2000,16384)"
   ]
  },
  {
   "attachments": {},
   "cell_type": "markdown",
   "metadata": {},
   "source": [
    "Normalization Step: "
   ]
  },
  {
   "cell_type": "code",
   "execution_count": 16,
   "metadata": {},
   "outputs": [],
   "source": [
    "from sklearn import preprocessing\n",
    "X = preprocessing.normalize(X)"
   ]
  },
  {
   "attachments": {},
   "cell_type": "markdown",
   "metadata": {},
   "source": [
    "Creating Y (outcome variable): "
   ]
  },
  {
   "cell_type": "code",
   "execution_count": 17,
   "metadata": {},
   "outputs": [],
   "source": [
    "y = [] \n",
    "i=0\n",
    "while i < 500:\n",
    "    y.append(\"alpha\")\n",
    "    i = i + 1\n",
    "while i < 1000:\n",
    "    y.append(\"beta\")\n",
    "    i = i + 1\n",
    "while i < 1500:\n",
    "    y.append(\"delta\")\n",
    "    i = i + 1\n",
    "while i < 2000:\n",
    "    y.append(\"gamma\")\n",
    "    i = i + 1\n"
   ]
  },
  {
   "attachments": {},
   "cell_type": "markdown",
   "metadata": {},
   "source": [
    "Fitting Logistic Regression model:"
   ]
  },
  {
   "cell_type": "code",
   "execution_count": 27,
   "metadata": {},
   "outputs": [
    {
     "data": {
      "text/plain": [
       "0.9305000000000001"
      ]
     },
     "execution_count": 27,
     "metadata": {},
     "output_type": "execute_result"
    }
   ],
   "source": [
    "from sklearn.model_selection import cross_val_score\n",
    "from sklearn.model_selection import KFold\n",
    "from sklearn.linear_model import LogisticRegression\n",
    "from sklearn.metrics import confusion_matrix\n",
    "from sklearn.metrics import classification_report\n",
    "\n",
    "kfold = KFold(n_splits=10, random_state=0, shuffle=True)\n",
    "\n",
    "model = LogisticRegression(solver='liblinear')\n",
    "\n",
    "results = cross_val_score(model, X, y, cv=kfold)\n",
    "\n",
    "results.mean()"
   ]
  },
  {
   "cell_type": "code",
   "execution_count": 28,
   "metadata": {},
   "outputs": [
    {
     "data": {
      "text/plain": [
       "array([0.935, 0.975, 0.92 , 0.94 , 0.92 , 0.91 , 0.92 , 0.915, 0.935,\n",
       "       0.935])"
      ]
     },
     "execution_count": 28,
     "metadata": {},
     "output_type": "execute_result"
    }
   ],
   "source": [
    "results"
   ]
  },
  {
   "attachments": {},
   "cell_type": "markdown",
   "metadata": {},
   "source": [
    "Step 4: \n"
   ]
  },
  {
   "cell_type": "code",
   "execution_count": 19,
   "metadata": {},
   "outputs": [],
   "source": [
    "import os, glob\n",
    "from Bio import SeqIO\n",
    "letters = ['A', 'C','G', 'T']\n",
    "path = 'c:\\\\Users\\\\omare\\\\Desktop\\\\Assignment24440\\\\Asn2Dataset\\\\TestingDataset'\n",
    "testcgrs = []\n",
    "for filename in glob.glob(os.path.join(path, '*.fasta')):\n",
    "   with open(os.path.join(os.getcwd(), filename), 'r') as f:\n",
    "     seqobjr =SeqIO.parse(filename, 'fasta')\n",
    "     seqr = [seq for seq in seqobjr]\n",
    "     for x in seqr:\n",
    "        filter(letters,x)\n",
    "     for x in seqr :\n",
    "        res = cgr(x.seq, order=\"ACGT\", k=7)\n",
    "        testcgrs.append(res)"
   ]
  },
  {
   "cell_type": "code",
   "execution_count": 20,
   "metadata": {},
   "outputs": [
    {
     "data": {
      "text/plain": [
       "(10, 128, 128)"
      ]
     },
     "execution_count": 20,
     "metadata": {},
     "output_type": "execute_result"
    }
   ],
   "source": [
    "Xi = np.array(testcgrs)\n",
    "Xi.shape"
   ]
  },
  {
   "cell_type": "code",
   "execution_count": 21,
   "metadata": {},
   "outputs": [],
   "source": [
    "Xi = Xi.reshape(10,16384)"
   ]
  },
  {
   "cell_type": "code",
   "execution_count": null,
   "metadata": {},
   "outputs": [
    {
     "data": {
      "text/html": [
       "<style>#sk-container-id-1 {color: black;background-color: white;}#sk-container-id-1 pre{padding: 0;}#sk-container-id-1 div.sk-toggleable {background-color: white;}#sk-container-id-1 label.sk-toggleable__label {cursor: pointer;display: block;width: 100%;margin-bottom: 0;padding: 0.3em;box-sizing: border-box;text-align: center;}#sk-container-id-1 label.sk-toggleable__label-arrow:before {content: \"▸\";float: left;margin-right: 0.25em;color: #696969;}#sk-container-id-1 label.sk-toggleable__label-arrow:hover:before {color: black;}#sk-container-id-1 div.sk-estimator:hover label.sk-toggleable__label-arrow:before {color: black;}#sk-container-id-1 div.sk-toggleable__content {max-height: 0;max-width: 0;overflow: hidden;text-align: left;background-color: #f0f8ff;}#sk-container-id-1 div.sk-toggleable__content pre {margin: 0.2em;color: black;border-radius: 0.25em;background-color: #f0f8ff;}#sk-container-id-1 input.sk-toggleable__control:checked~div.sk-toggleable__content {max-height: 200px;max-width: 100%;overflow: auto;}#sk-container-id-1 input.sk-toggleable__control:checked~label.sk-toggleable__label-arrow:before {content: \"▾\";}#sk-container-id-1 div.sk-estimator input.sk-toggleable__control:checked~label.sk-toggleable__label {background-color: #d4ebff;}#sk-container-id-1 div.sk-label input.sk-toggleable__control:checked~label.sk-toggleable__label {background-color: #d4ebff;}#sk-container-id-1 input.sk-hidden--visually {border: 0;clip: rect(1px 1px 1px 1px);clip: rect(1px, 1px, 1px, 1px);height: 1px;margin: -1px;overflow: hidden;padding: 0;position: absolute;width: 1px;}#sk-container-id-1 div.sk-estimator {font-family: monospace;background-color: #f0f8ff;border: 1px dotted black;border-radius: 0.25em;box-sizing: border-box;margin-bottom: 0.5em;}#sk-container-id-1 div.sk-estimator:hover {background-color: #d4ebff;}#sk-container-id-1 div.sk-parallel-item::after {content: \"\";width: 100%;border-bottom: 1px solid gray;flex-grow: 1;}#sk-container-id-1 div.sk-label:hover label.sk-toggleable__label {background-color: #d4ebff;}#sk-container-id-1 div.sk-serial::before {content: \"\";position: absolute;border-left: 1px solid gray;box-sizing: border-box;top: 0;bottom: 0;left: 50%;z-index: 0;}#sk-container-id-1 div.sk-serial {display: flex;flex-direction: column;align-items: center;background-color: white;padding-right: 0.2em;padding-left: 0.2em;position: relative;}#sk-container-id-1 div.sk-item {position: relative;z-index: 1;}#sk-container-id-1 div.sk-parallel {display: flex;align-items: stretch;justify-content: center;background-color: white;position: relative;}#sk-container-id-1 div.sk-item::before, #sk-container-id-1 div.sk-parallel-item::before {content: \"\";position: absolute;border-left: 1px solid gray;box-sizing: border-box;top: 0;bottom: 0;left: 50%;z-index: -1;}#sk-container-id-1 div.sk-parallel-item {display: flex;flex-direction: column;z-index: 1;position: relative;background-color: white;}#sk-container-id-1 div.sk-parallel-item:first-child::after {align-self: flex-end;width: 50%;}#sk-container-id-1 div.sk-parallel-item:last-child::after {align-self: flex-start;width: 50%;}#sk-container-id-1 div.sk-parallel-item:only-child::after {width: 0;}#sk-container-id-1 div.sk-dashed-wrapped {border: 1px dashed gray;margin: 0 0.4em 0.5em 0.4em;box-sizing: border-box;padding-bottom: 0.4em;background-color: white;}#sk-container-id-1 div.sk-label label {font-family: monospace;font-weight: bold;display: inline-block;line-height: 1.2em;}#sk-container-id-1 div.sk-label-container {text-align: center;}#sk-container-id-1 div.sk-container {/* jupyter's `normalize.less` sets `[hidden] { display: none; }` but bootstrap.min.css set `[hidden] { display: none !important; }` so we also need the `!important` here to be able to override the default hidden behavior on the sphinx rendered scikit-learn.org. See: https://github.com/scikit-learn/scikit-learn/issues/21755 */display: inline-block !important;position: relative;}#sk-container-id-1 div.sk-text-repr-fallback {display: none;}</style><div id=\"sk-container-id-1\" class=\"sk-top-container\"><div class=\"sk-text-repr-fallback\"><pre>LogisticRegression(solver=&#x27;liblinear&#x27;)</pre><b>In a Jupyter environment, please rerun this cell to show the HTML representation or trust the notebook. <br />On GitHub, the HTML representation is unable to render, please try loading this page with nbviewer.org.</b></div><div class=\"sk-container\" hidden><div class=\"sk-item\"><div class=\"sk-estimator sk-toggleable\"><input class=\"sk-toggleable__control sk-hidden--visually\" id=\"sk-estimator-id-1\" type=\"checkbox\" checked><label for=\"sk-estimator-id-1\" class=\"sk-toggleable__label sk-toggleable__label-arrow\">LogisticRegression</label><div class=\"sk-toggleable__content\"><pre>LogisticRegression(solver=&#x27;liblinear&#x27;)</pre></div></div></div></div></div>"
      ],
      "text/plain": [
       "LogisticRegression(solver='liblinear')"
      ]
     },
     "metadata": {},
     "output_type": "display_data"
    }
   ],
   "source": [
    "model.fit(X,y)"
   ]
  },
  {
   "cell_type": "code",
   "execution_count": 24,
   "metadata": {},
   "outputs": [],
   "source": [
    "predicted = model.predict(Xi)"
   ]
  },
  {
   "cell_type": "code",
   "execution_count": 29,
   "metadata": {},
   "outputs": [
    {
     "data": {
      "text/plain": [
       "array(['delta', 'beta', 'delta', 'delta', 'delta', 'beta', 'beta', 'beta',\n",
       "       'beta', 'beta'], dtype='<U5')"
      ]
     },
     "execution_count": 29,
     "metadata": {},
     "output_type": "execute_result"
    }
   ],
   "source": [
    "predicted"
   ]
  }
 ],
 "metadata": {
  "kernelspec": {
   "display_name": "Python 3",
   "language": "python",
   "name": "python3"
  },
  "language_info": {
   "codemirror_mode": {
    "name": "ipython",
    "version": 3
   },
   "file_extension": ".py",
   "mimetype": "text/x-python",
   "name": "python",
   "nbconvert_exporter": "python",
   "pygments_lexer": "ipython3",
   "version": "3.9.7"
  },
  "orig_nbformat": 4
 },
 "nbformat": 4,
 "nbformat_minor": 2
}
